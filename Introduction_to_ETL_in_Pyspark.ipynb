version https://git-lfs.github.com/spec/v1
oid sha256:ad60195bd58a9693f5674cc2697a584ca16041fd546a9909408964353d3e4330
size 34422494
